{
 "cells": [
  {
   "cell_type": "markdown",
   "metadata": {},
   "source": [
    "# Amazon Fine Food Reviews"
   ]
  },
  {
   "cell_type": "code",
   "execution_count": 9,
   "metadata": {},
   "outputs": [
    {
     "name": "stdout",
     "output_type": "stream",
     "text": [
      "Populating the interactive namespace from numpy and matplotlib\n"
     ]
    }
   ],
   "source": [
    "import pandas as pd\n",
    "import numpy as np\n",
    "import seaborn as sns\n",
    "import matplotlib.pyplot as plt\n",
    "import nltk\n",
    "from nltk.tokenize import sent_tokenize, word_tokenize\n",
    "from pylab import figure, axes, pie, title, show\n",
    "from Word2VecUtility3 import Word2VecUtility3\n",
    "%pylab inline"
   ]
  },
  {
   "cell_type": "code",
   "execution_count": 10,
   "metadata": {
    "scrolled": true
   },
   "outputs": [
    {
     "name": "stdout",
     "output_type": "stream",
     "text": [
      "<class 'pandas.core.frame.DataFrame'>\n",
      "RangeIndex: 568453 entries, 0 to 568452\n",
      "Data columns (total 2 columns):\n",
      "Score    568453 non-null int64\n",
      "Text     568453 non-null object\n",
      "dtypes: int64(1), object(1)\n",
      "memory usage: 8.7+ MB\n",
      "None\n",
      "   Score                                               Text\n",
      "0      5  I have bought several of the Vitality canned d...\n",
      "1      1  Product arrived labeled as Jumbo Salted Peanut...\n",
      "2      4  This is a confection that has been around a fe...\n",
      "3      2  If you are looking for the secret ingredient i...\n",
      "4      5  Great taffy at a great price.  There was a wid...\n"
     ]
    }
   ],
   "source": [
    "#data = pd.read_csv('AFFReviews.csv', delimiter=\",\", header=0)\n",
    "data = pd.read_csv('Reviews.csv', encoding='utf-8')\n",
    "print(data.info())\n",
    "print(data.head())\n",
    "#data.to_csv('Reviews_clean.csv', index=False, encoding='utf-8')"
   ]
  },
  {
   "cell_type": "code",
   "execution_count": 11,
   "metadata": {},
   "outputs": [
    {
     "data": {
      "text/plain": [
       "'0.20.3'"
      ]
     },
     "execution_count": 11,
     "metadata": {},
     "output_type": "execute_result"
    }
   ],
   "source": [
    "pd.__version__"
   ]
  },
  {
   "cell_type": "code",
   "execution_count": 12,
   "metadata": {
    "scrolled": true
   },
   "outputs": [
    {
     "data": {
      "image/png": "[encoded data removed]",
      "text/plain": [
       "<matplotlib.figure.Figure at 0x1fc3aec72e8>"
      ]
     },
     "metadata": {},
     "output_type": "display_data"
    }
   ],
   "source": [
    "#Graph - Score\n",
    "ax = sns.countplot(data['Score'], palette='Blues_d')\n",
    "ax.set_xlabel('Rating', fontsize = 12)\n",
    "ax.set_ylabel('Number of Ratings', fontsize = 12)\n",
    "ax.set_title('Number of Reviews Amazon Dataset', fontsize=16)\n",
    "ax.tick_params(labelsize = 8)\n",
    "pylab.rcParams['figure.figsize'] = (4, 8)\n",
    "plt.show()\n",
    "fig = ax.get_figure()\n",
    "fig.savefig(\"AFF.png\")"
   ]
  },
  {
   "cell_type": "code",
   "execution_count": 13,
   "metadata": {},
   "outputs": [
    {
     "data": {
      "text/plain": [
       "5    363121\n",
       "4     80655\n",
       "1     52268\n",
       "3     42640\n",
       "2     29769\n",
       "Name: Score, dtype: int64"
      ]
     },
     "execution_count": 13,
     "metadata": {},
     "output_type": "execute_result"
    }
   ],
   "source": [
    "data['Score'].value_counts()\n",
    "#to sample it evenly, we'd need around 80k reviews from each"
   ]
  },
  {
   "cell_type": "code",
   "execution_count": 14,
   "metadata": {},
   "outputs": [
    {
     "name": "stdout",
     "output_type": "stream",
     "text": [
      "   Score                                               Text\n",
      "0      5  I have bought several of the Vitality canned d...\n",
      "1      1  Product arrived labeled as Jumbo Salted Peanut...\n",
      "2      4  This is a confection that has been around a fe...\n",
      "3      2  If you are looking for the secret ingredient i...\n",
      "4      5  Great taffy at a great price.  There was a wid...\n"
     ]
    },
    {
     "data": {
      "text/plain": [
       "5    363121\n",
       "4     80655\n",
       "1     52268\n",
       "2     29769\n",
       "Name: Score, dtype: int64"
      ]
     },
     "execution_count": 14,
     "metadata": {},
     "output_type": "execute_result"
    }
   ],
   "source": [
    "#remove rows which contain ratings of 3 (Neutral and not included in our analysis.)\n",
    "data = data[data.Score != 3]\n",
    "print(data.head())\n",
    "data['Score'].value_counts() "
   ]
  },
  {
   "cell_type": "code",
   "execution_count": 7,
   "metadata": {
    "collapsed": true
   },
   "outputs": [],
   "source": [
    "# #create 2 datasets and merge them. \n",
    "# negative_sample = data.loc[data.Score <=2]\n",
    "# positive_sample = data.loc[data.Score >=4]"
   ]
  },
  {
   "cell_type": "code",
   "execution_count": 8,
   "metadata": {},
   "outputs": [
    {
     "name": "stdout",
     "output_type": "stream",
     "text": [
      "82037\n",
      "443776\n"
     ]
    }
   ],
   "source": [
    "# print(len(negative_sample))\n",
    "# print(len(positive_sample))"
   ]
  },
  {
   "cell_type": "code",
   "execution_count": 15,
   "metadata": {
    "collapsed": true
   },
   "outputs": [],
   "source": [
    "data.loc[data.Score <=2, 'Score'] = 0\n",
    "data.loc[data.Score >=4, 'Score'] = 1"
   ]
  },
  {
   "cell_type": "code",
   "execution_count": 16,
   "metadata": {},
   "outputs": [
    {
     "data": {
      "text/plain": [
       "1    443776\n",
       "0     82037\n",
       "Name: Score, dtype: int64"
      ]
     },
     "execution_count": 16,
     "metadata": {},
     "output_type": "execute_result"
    }
   ],
   "source": [
    "data['Score'].value_counts() "
   ]
  },
  {
   "cell_type": "markdown",
   "metadata": {},
   "source": [
    "Create Specific Datasets"
   ]
  },
  {
   "cell_type": "code",
   "execution_count": 17,
   "metadata": {},
   "outputs": [
    {
     "name": "stdout",
     "output_type": "stream",
     "text": [
      "Int64Index([328304, 189166, 220149, 512982, 307255, 293924, 337360, 210412,\n",
      "            469983,   2151,\n",
      "            ...\n",
      "            373670, 169415, 385119,  73312, 297309, 297901, 340759, 541518,\n",
      "            392728, 495616],\n",
      "           dtype='int64', length=164000)\n"
     ]
    }
   ],
   "source": [
    "#Create a sample dataset so we can evenly match the amount of pos/neg examples/  \n",
    "size = 164000\n",
    "subdata = data.sample(n = size, random_state=520)\n",
    "\n",
    "#subdata = subdata[pd.notnull(subdata['text'])] - to get rid of null values\n",
    "\n",
    "print(subdata.index)\n",
    "subdata.to_csv('AFF_Randomly_Distributed_164k.csv', index=False, sep=',', encoding='utf-8')"
   ]
  },
  {
   "cell_type": "code",
   "execution_count": null,
   "metadata": {
    "collapsed": true
   },
   "outputs": [],
   "source": [
    "#Load in the sample data\n",
    "pos_data = pd.read_csv('AFFpos80k.csv', index_col=False)\n",
    "print(pos_data.iloc[:5])"
   ]
  },
  {
   "cell_type": "markdown",
   "metadata": {},
   "source": [
    "Create Negative Examples Dataset"
   ]
  },
  {
   "cell_type": "code",
   "execution_count": null,
   "metadata": {
    "collapsed": true
   },
   "outputs": [],
   "source": [
    "#Create a sample dataset so we can evenly match the amount of pos/neg examples/  \n",
    "size = 82000 \n",
    "subdata = negative_sample.sample(n = size, random_state=520)\n",
    "\n",
    "#subdata = subdata[pd.notnull(subdata['text'])] - to get rid of null values\n",
    "\n",
    "print(subdata.index)\n",
    "subdata.to_csv('AFFneg80k.csv', index=False, sep=',', encoding='utf-8')"
   ]
  },
  {
   "cell_type": "code",
   "execution_count": null,
   "metadata": {
    "collapsed": true
   },
   "outputs": [],
   "source": [
    "#Load in the sample data\n",
    "neg_data = pd.read_csv('AFFneg80k.csv', index_col=False)\n",
    "print(neg_data.iloc[:5])"
   ]
  },
  {
   "cell_type": "markdown",
   "metadata": {},
   "source": [
    "Merge the positive and negative datasets so that we have one highly balanced dataset"
   ]
  },
  {
   "cell_type": "code",
   "execution_count": null,
   "metadata": {
    "collapsed": true
   },
   "outputs": [],
   "source": [
    "# stack the DataFrames on top of each other\n",
    "merged = pd.concat([pos_data, neg_data], axis=0)"
   ]
  },
  {
   "cell_type": "code",
   "execution_count": null,
   "metadata": {
    "collapsed": true,
    "scrolled": true
   },
   "outputs": [],
   "source": [
    "print(merged.head())"
   ]
  },
  {
   "cell_type": "code",
   "execution_count": null,
   "metadata": {
    "collapsed": true
   },
   "outputs": [],
   "source": [
    "#Graph - Score\n",
    "ax = sns.countplot(merged['Score'], palette='Blues_d')\n",
    "ax.set_xlabel('Rating', fontsize = 12)\n",
    "ax.set_ylabel('Number of Ratings', fontsize = 12)\n",
    "ax.set_title('Number of Reviews Amazon', fontsize=16)\n",
    "ax.tick_params(labelsize = 8)\n",
    "pylab.rcParams['figure.figsize'] = (4, 8)\n",
    "plt.show()\n",
    "fig = ax.get_figure()\n",
    "#fig.savefig(\"AFF.png\")"
   ]
  },
  {
   "cell_type": "code",
   "execution_count": null,
   "metadata": {
    "collapsed": true
   },
   "outputs": [],
   "source": [
    "merged.loc[merged.Score <=2, 'Score'] = 0\n",
    "merged.loc[merged.Score >=4, 'Score'] = 1\n",
    "        \n",
    "merged['Score'].value_counts()"
   ]
  },
  {
   "cell_type": "code",
   "execution_count": null,
   "metadata": {
    "collapsed": true
   },
   "outputs": [],
   "source": [
    "#Now that we have a balanced dataset, we can save it to a CSV file so that it can be used in our\n",
    "#analysis\n",
    "\n",
    "merged.to_csv('AFF_Evenly_Sampled.csv', index=False, sep=',', encoding='utf-8')"
   ]
  },
  {
   "cell_type": "code",
   "execution_count": 6,
   "metadata": {},
   "outputs": [
    {
     "name": "stdout",
     "output_type": "stream",
     "text": [
      "   Score                                               Text\n",
      "0      1  I like this brand. I didn't realize I was orde...\n",
      "1      1  Being my wife is a licensed cosmetologist and ...\n",
      "2      1  If you are looking for an upgrade from the sta...\n",
      "3      1  I am so allergic to too many artificial sweete...\n",
      "4      1  I have not been able to find this locally and ...\n"
     ]
    },
    {
     "data": {
      "text/plain": [
       "1    82000\n",
       "0    82000\n",
       "Name: Score, dtype: int64"
      ]
     },
     "execution_count": 6,
     "metadata": {},
     "output_type": "execute_result"
    }
   ],
   "source": [
    "#Load in the new data\n",
    "data = pd.read_csv('AFF_Evenly_Sampled.csv', index_col=False, encoding='utf-8')\n",
    "print(data.iloc[:5])\n",
    "data['Score'].value_counts()"
   ]
  },
  {
   "cell_type": "code",
   "execution_count": 10,
   "metadata": {},
   "outputs": [
    {
     "name": "stdout",
     "output_type": "stream",
     "text": [
      "Score                                                    1\n",
      "Text     I like this brand. I didn't realize I was orde...\n",
      "Name: 0, dtype: object\n"
     ]
    }
   ],
   "source": [
    "print(data.iloc[0])"
   ]
  },
  {
   "cell_type": "code",
   "execution_count": null,
   "metadata": {
    "collapsed": true
   },
   "outputs": [],
   "source": [
    "from __future__ import division\n",
    "from sklearn.cross_validation import train_test_split\n",
    "from Word2VecUtility import Word2VecUtility\n",
    "import pickle\n",
    "import pandas as pd\n",
    "import numpy as np\n",
    "from gensim.models import word2vec\n",
    "import logging\n",
    "logging.basicConfig(format='%(asctime)s : %(levelname)s : %(message)s',\\\n",
    "    level=logging.INFO)"
   ]
  },
  {
   "cell_type": "code",
   "execution_count": null,
   "metadata": {
    "collapsed": true
   },
   "outputs": [],
   "source": [
    "import nltk.data\n",
    "#nltk.download()\n",
    "tokenizer = nltk.data.load('tokenizers/punkt/english.pickle')"
   ]
  },
  {
   "cell_type": "code",
   "execution_count": null,
   "metadata": {
    "collapsed": true
   },
   "outputs": [],
   "source": [
    "review_sents = []\n",
    "print(\"Cleaning and parsing the reviews...\\n\")\n",
    "for i in xrange( 0, len(data[\"Text\"])):\n",
    "    # sent_reviews += Word2VecUtility.review_to_sentences(data[\"text\"][i], tokenizer)\n",
    "    review_sents += Word2VecUtility3.review_to_sentences(data.iloc[i][\"Text\"], tokenizer)"
   ]
  },
  {
   "cell_type": "code",
   "execution_count": null,
   "metadata": {
    "collapsed": true
   },
   "outputs": [],
   "source": [
    "# review_sents = pickle.load(open('review_sents_1859888.pkl', 'rb'))\n",
    "print(len(review_sents))\n",
    "print(review_sents[:10])"
   ]
  },
  {
   "cell_type": "code",
   "execution_count": null,
   "metadata": {
    "collapsed": true
   },
   "outputs": [],
   "source": [
    "#count the number of words:\n",
    "# review_words = []\n",
    "# print(\"Cleaning and parsing the reviews...\\n\")\n",
    "# for i in xrange( 0, len(data[\"Text\"])):\n",
    "#     # sent_reviews += Word2VecUtility.review_to_sentences(data[\"text\"][i], tokenizer)\n",
    "#     review_words += Word2VecUtility3.review_to_wordlist(data.iloc[i][\"Text\"])"
   ]
  },
  {
   "cell_type": "code",
   "execution_count": null,
   "metadata": {
    "collapsed": true
   },
   "outputs": [],
   "source": [
    "# # review_sents = pickle.load(open('review_sents_1859888.pkl', 'rb'))\n",
    "# print(len(review_words))\n",
    "# print(review_words[:5])"
   ]
  },
  {
   "cell_type": "code",
   "execution_count": null,
   "metadata": {
    "collapsed": true
   },
   "outputs": [],
   "source": [
    "print(data[0:10])"
   ]
  }
 ],
 "metadata": {
  "kernelspec": {
   "display_name": "Python 3",
   "language": "python",
   "name": "python3"
  },
  "language_info": {
   "codemirror_mode": {
    "name": "ipython",
    "version": 3
   },
   "file_extension": ".py",
   "mimetype": "text/x-python",
   "name": "python",
   "nbconvert_exporter": "python",
   "pygments_lexer": "ipython3",
   "version": "3.5.3"
  }
 },
 "nbformat": 4,
 "nbformat_minor": 2
}
