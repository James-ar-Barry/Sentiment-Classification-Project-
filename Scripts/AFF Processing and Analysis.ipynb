{
 "cells": [
  {
   "cell_type": "markdown",
   "metadata": {},
   "source": [
    "# Amazon Fine Food Reviews"
   ]
  },
  {
   "cell_type": "code",
   "execution_count": 1,
   "metadata": {},
   "outputs": [
    {
     "name": "stdout",
     "output_type": "stream",
     "text": [
      "Populating the interactive namespace from numpy and matplotlib\n"
     ]
    }
   ],
   "source": [
    "import pandas as pd\n",
    "import numpy as np\n",
    "import seaborn as sns\n",
    "import matplotlib.pyplot as plt\n",
    "import nltk\n",
    "from nltk.tokenize import sent_tokenize, word_tokenize\n",
    "from pylab import figure, axes, pie, title, show\n",
    "%pylab inline"
   ]
  },
  {
   "cell_type": "code",
   "execution_count": 2,
   "metadata": {
    "scrolled": true
   },
   "outputs": [
    {
     "name": "stdout",
     "output_type": "stream",
     "text": [
      "<class 'pandas.core.frame.DataFrame'>\n",
      "RangeIndex: 568453 entries, 0 to 568452\n",
      "Data columns (total 2 columns):\n",
      "Score    568453 non-null int64\n",
      "Text     568453 non-null object\n",
      "dtypes: int64(1), object(1)\n",
      "memory usage: 8.7+ MB\n",
      "None\n",
      "   Score                                               Text\n",
      "0      5  I have bought several of the Vitality canned d...\n",
      "1      1  Product arrived labeled as Jumbo Salted Peanut...\n",
      "2      4  This is a confection that has been around a fe...\n",
      "3      2  If you are looking for the secret ingredient i...\n",
      "4      5  Great taffy at a great price.  There was a wid...\n"
     ]
    }
   ],
   "source": [
    "#data = pd.read_csv('AFFReviews.csv', delimiter=\",\", header=0)\n",
    "data = pd.read_csv('Reviews.csv', encoding='utf-8')\n",
    "print data.info()\n",
    "print data.head()\n",
    "#data.to_csv('Reviews_clean.csv', index=False, encoding='utf-8')"
   ]
  },
  {
   "cell_type": "code",
   "execution_count": 3,
   "metadata": {},
   "outputs": [
    {
     "data": {
      "text/plain": [
       "u'0.20.1'"
      ]
     },
     "execution_count": 3,
     "metadata": {},
     "output_type": "execute_result"
    }
   ],
   "source": [
    "pd.__version__"
   ]
  },
  {
   "cell_type": "code",
   "execution_count": 4,
   "metadata": {
    "scrolled": true
   },
   "outputs": [
    {
     "data": {
      "image/png": "[encoded data removed]",
      "text/plain": [
       "<matplotlib.figure.Figure at 0x46c4b70>"
      ]
     },
     "metadata": {},
     "output_type": "display_data"
    }
   ],
   "source": [
    "#Graph - Score\n",
    "ax = sns.countplot(data['Score'], palette='Blues_d')\n",
    "ax.set_xlabel('Rating', fontsize = 12)\n",
    "ax.set_ylabel('Number of Ratings', fontsize = 12)\n",
    "ax.set_title('Number of Reviews Amazon', fontsize=16)\n",
    "ax.tick_params(labelsize = 8)\n",
    "pylab.rcParams['figure.figsize'] = (4, 8)\n",
    "plt.show()\n",
    "fig = ax.get_figure()\n",
    "#fig.savefig(\"AFF.png\")"
   ]
  },
  {
   "cell_type": "code",
   "execution_count": 5,
   "metadata": {},
   "outputs": [
    {
     "data": {
      "text/plain": [
       "5    363121\n",
       "4     80655\n",
       "1     52268\n",
       "3     42640\n",
       "2     29769\n",
       "Name: Score, dtype: int64"
      ]
     },
     "execution_count": 5,
     "metadata": {},
     "output_type": "execute_result"
    }
   ],
   "source": [
    "data['Score'].value_counts()\n",
    "#to sample it evenly, we'd need around 80k reviews from each"
   ]
  },
  {
   "cell_type": "code",
   "execution_count": 6,
   "metadata": {},
   "outputs": [
    {
     "name": "stdout",
     "output_type": "stream",
     "text": [
      "   Score                                               Text\n",
      "0      5  I have bought several of the Vitality canned d...\n",
      "1      1  Product arrived labeled as Jumbo Salted Peanut...\n",
      "2      4  This is a confection that has been around a fe...\n",
      "3      2  If you are looking for the secret ingredient i...\n",
      "4      5  Great taffy at a great price.  There was a wid...\n"
     ]
    },
    {
     "data": {
      "text/plain": [
       "5    363121\n",
       "4     80655\n",
       "1     52268\n",
       "2     29769\n",
       "Name: Score, dtype: int64"
      ]
     },
     "execution_count": 6,
     "metadata": {},
     "output_type": "execute_result"
    }
   ],
   "source": [
    "#remove rows which contain ratings of 3 (Neutral and not included in our analysis.)\n",
    "data = data[data.Score != 3]\n",
    "print(data.head())\n",
    "data['Score'].value_counts() "
   ]
  },
  {
   "cell_type": "code",
   "execution_count": 7,
   "metadata": {
    "collapsed": true
   },
   "outputs": [],
   "source": [
    "#create 2 datasets and merge them. \n",
    "negative_sample = data.loc[data.Score <=2]\n",
    "positive_sample = data.loc[data.Score >=4]"
   ]
  },
  {
   "cell_type": "code",
   "execution_count": 8,
   "metadata": {},
   "outputs": [
    {
     "name": "stdout",
     "output_type": "stream",
     "text": [
      "82037\n",
      "443776\n"
     ]
    }
   ],
   "source": [
    "print len(negative_sample)\n",
    "print len(positive_sample)"
   ]
  },
  {
   "cell_type": "markdown",
   "metadata": {},
   "source": [
    "Create Positive Examples Dataset"
   ]
  },
  {
   "cell_type": "code",
   "execution_count": 9,
   "metadata": {},
   "outputs": [
    {
     "name": "stdout",
     "output_type": "stream",
     "text": [
      "Int64Index([517498,  69991, 246163, 499720, 214137, 105762,  90411, 315855,\n",
      "             37494, 365286,\n",
      "            ...\n",
      "            137497, 216038, 421225,  18520, 404772, 490130,  13227, 370533,\n",
      "            511773, 266209],\n",
      "           dtype='int64', length=82000)\n"
     ]
    }
   ],
   "source": [
    "#Create a sample dataset so we can evenly match the amount of pos/neg examples/  \n",
    "size = 82000 \n",
    "subdata = positive_sample.sample(n = size, random_state=520)\n",
    "\n",
    "#subdata = subdata[pd.notnull(subdata['text'])] - to get rid of null values\n",
    "\n",
    "print subdata.index\n",
    "subdata.to_csv('AFFpos80k.csv', index=False, sep=',', encoding='utf-8')"
   ]
  },
  {
   "cell_type": "code",
   "execution_count": 10,
   "metadata": {},
   "outputs": [
    {
     "name": "stdout",
     "output_type": "stream",
     "text": [
      "   Score                                               Text\n",
      "0      4  I like this brand. I didn't realize I was orde...\n",
      "1      5  Being my wife is a licensed cosmetologist and ...\n",
      "2      5  If you are looking for an upgrade from the sta...\n",
      "3      5  I am so allergic to too many artificial sweete...\n",
      "4      5  I have not been able to find this locally and ...\n"
     ]
    }
   ],
   "source": [
    "#Load in the sample data\n",
    "pos_data = pd.read_csv('AFFpos80k.csv', index_col=False)\n",
    "print pos_data.iloc[:5]"
   ]
  },
  {
   "cell_type": "markdown",
   "metadata": {},
   "source": [
    "Create Negative Examples Dataset"
   ]
  },
  {
   "cell_type": "code",
   "execution_count": 11,
   "metadata": {},
   "outputs": [
    {
     "name": "stdout",
     "output_type": "stream",
     "text": [
      "Int64Index([162858, 203095,  76013, 338750, 376569, 178722, 358605,  36238,\n",
      "            144130,  35358,\n",
      "            ...\n",
      "            356709, 203989,  51200,  91697, 472635, 249620, 333188, 486836,\n",
      "            510249, 254128],\n",
      "           dtype='int64', length=82000)\n"
     ]
    }
   ],
   "source": [
    "#Create a sample dataset so we can evenly match the amount of pos/neg examples/  \n",
    "size = 82000 \n",
    "subdata = negative_sample.sample(n = size, random_state=520)\n",
    "\n",
    "#subdata = subdata[pd.notnull(subdata['text'])] - to get rid of null values\n",
    "\n",
    "print subdata.index\n",
    "subdata.to_csv('AFFneg80k.csv', index=False, sep=',', encoding='utf-8')"
   ]
  },
  {
   "cell_type": "code",
   "execution_count": 12,
   "metadata": {},
   "outputs": [
    {
     "name": "stdout",
     "output_type": "stream",
     "text": [
      "   Score                                               Text\n",
      "0      2  This product did not work for me. I live in Ne...\n",
      "1      1  I have been trying to find a good brand of jer...\n",
      "2      1  These used to be so good and I used to buy the...\n",
      "3      1  Let me preface this review with a qualificatio...\n",
      "4      1  The item description and content sounded great...\n"
     ]
    }
   ],
   "source": [
    "#Load in the sample data\n",
    "neg_data = pd.read_csv('AFFneg80k.csv', index_col=False)\n",
    "print neg_data.iloc[:5]"
   ]
  },
  {
   "cell_type": "markdown",
   "metadata": {},
   "source": [
    "Merge the positive and negative datasets so that we have one highly balanced dataset"
   ]
  },
  {
   "cell_type": "code",
   "execution_count": 13,
   "metadata": {
    "collapsed": true
   },
   "outputs": [],
   "source": [
    "# stack the DataFrames on top of each other\n",
    "merged = pd.concat([pos_data, neg_data], axis=0)"
   ]
  },
  {
   "cell_type": "code",
   "execution_count": 14,
   "metadata": {
    "scrolled": true
   },
   "outputs": [
    {
     "name": "stdout",
     "output_type": "stream",
     "text": [
      "   Score                                               Text\n",
      "0      4  I like this brand. I didn't realize I was orde...\n",
      "1      5  Being my wife is a licensed cosmetologist and ...\n",
      "2      5  If you are looking for an upgrade from the sta...\n",
      "3      5  I am so allergic to too many artificial sweete...\n",
      "4      5  I have not been able to find this locally and ...\n"
     ]
    }
   ],
   "source": [
    "print merged.head()"
   ]
  },
  {
   "cell_type": "code",
   "execution_count": 15,
   "metadata": {},
   "outputs": [
    {
     "data": {
      "image/png": "[encoded data removed]",
      "text/plain": [
       "<matplotlib.figure.Figure at 0xbe3b2b0>"
      ]
     },
     "metadata": {},
     "output_type": "display_data"
    }
   ],
   "source": [
    "#Graph - Score\n",
    "ax = sns.countplot(merged['Score'], palette='Blues_d')\n",
    "ax.set_xlabel('Rating', fontsize = 12)\n",
    "ax.set_ylabel('Number of Ratings', fontsize = 12)\n",
    "ax.set_title('Number of Reviews Amazon', fontsize=16)\n",
    "ax.tick_params(labelsize = 8)\n",
    "pylab.rcParams['figure.figsize'] = (4, 8)\n",
    "plt.show()\n",
    "fig = ax.get_figure()\n",
    "#fig.savefig(\"AFF.png\")"
   ]
  },
  {
   "cell_type": "code",
   "execution_count": 16,
   "metadata": {},
   "outputs": [
    {
     "data": {
      "text/plain": [
       "1    82000\n",
       "0    82000\n",
       "Name: Score, dtype: int64"
      ]
     },
     "execution_count": 16,
     "metadata": {},
     "output_type": "execute_result"
    }
   ],
   "source": [
    "merged.loc[merged.Score <=2, 'Score'] = 0\n",
    "merged.loc[merged.Score >=4, 'Score'] = 1\n",
    "        \n",
    "merged['Score'].value_counts()"
   ]
  },
  {
   "cell_type": "code",
   "execution_count": 17,
   "metadata": {
    "collapsed": true
   },
   "outputs": [],
   "source": [
    "#Now that we have a balanced dataset, we can save it to a CSV file so that it can be used in our\n",
    "#analysis\n",
    "\n",
    "merged.to_csv('AFF_Evenly_Sampled.csv', index=False, sep=',', encoding='utf-8')"
   ]
  },
  {
   "cell_type": "code",
   "execution_count": 23,
   "metadata": {},
   "outputs": [
    {
     "name": "stdout",
     "output_type": "stream",
     "text": [
      "   Score                                               Text\n",
      "0      1  I like this brand. I didn't realize I was orde...\n",
      "1      1  Being my wife is a licensed cosmetologist and ...\n",
      "2      1  If you are looking for an upgrade from the sta...\n",
      "3      1  I am so allergic to too many artificial sweete...\n",
      "4      1  I have not been able to find this locally and ...\n"
     ]
    },
    {
     "data": {
      "text/plain": [
       "1    82000\n",
       "0    82000\n",
       "Name: Score, dtype: int64"
      ]
     },
     "execution_count": 23,
     "metadata": {},
     "output_type": "execute_result"
    }
   ],
   "source": [
    "#Load in the new data\n",
    "data = pd.read_csv('AFF_Evenly_Sampled.csv', index_col=False, encoding='utf-8')\n",
    "print data.iloc[:5]\n",
    "data['Score'].value_counts()"
   ]
  },
  {
   "cell_type": "code",
   "execution_count": 24,
   "metadata": {},
   "outputs": [],
   "source": [
    "from __future__ import division\n",
    "from sklearn.cross_validation import train_test_split\n",
    "from Word2VecUtility import Word2VecUtility\n",
    "import pickle\n",
    "import pandas as pd\n",
    "import numpy as np\n",
    "from gensim.models import word2vec\n",
    "import logging\n",
    "logging.basicConfig(format='%(asctime)s : %(levelname)s : %(message)s',\\\n",
    "    level=logging.INFO)"
   ]
  },
  {
   "cell_type": "code",
   "execution_count": 25,
   "metadata": {
    "collapsed": true
   },
   "outputs": [],
   "source": [
    "import nltk.data\n",
    "#nltk.download()\n",
    "tokenizer = nltk.data.load('tokenizers/punkt/english.pickle')"
   ]
  },
  {
   "cell_type": "code",
   "execution_count": 26,
   "metadata": {},
   "outputs": [
    {
     "name": "stdout",
     "output_type": "stream",
     "text": [
      "Cleaning and parsing the reviews...\n",
      "\n"
     ]
    },
    {
     "name": "stderr",
     "output_type": "stream",
     "text": [
      "C:\\Users\\James\\Anaconda3\\envs\\python2\\lib\\site-packages\\bs4\\__init__.py:282: UserWarning: \"http://www.amazon.com/gp/product/B004HYXZB6/ref=cm_cr_rev_prod_title\" looks like a URL. Beautiful Soup is not an HTTP client. You should probably use an HTTP client like requests to get the document behind the URL, and feed that document to Beautiful Soup.\n",
      "  ' that document to Beautiful Soup.' % decoded_markup\n",
      "C:\\Users\\James\\Anaconda3\\envs\\python2\\lib\\site-packages\\bs4\\__init__.py:219: UserWarning: \"..\" looks like a filename, not markup. You should probably open this file and pass the filehandle into Beautiful Soup.\n",
      "  ' Beautiful Soup.' % markup)\n",
      "C:\\Users\\James\\Anaconda3\\envs\\python2\\lib\\site-packages\\bs4\\__init__.py:219: UserWarning: \"...\" looks like a filename, not markup. You should probably open this file and pass the filehandle into Beautiful Soup.\n",
      "  ' Beautiful Soup.' % markup)\n",
      "C:\\Users\\James\\Anaconda3\\envs\\python2\\lib\\site-packages\\bs4\\__init__.py:282: UserWarning: \"http://www.amazon.com/Greenies-Dental-Chews-ounce-Teenie/dp/B001CWEC2W/ref=sr_1_1?ie=UTF8&s=home-garden&qid=1266273814&sr=8-1\" looks like a URL. Beautiful Soup is not an HTTP client. You should probably use an HTTP client like requests to get the document behind the URL, and feed that document to Beautiful Soup.\n",
      "  ' that document to Beautiful Soup.' % decoded_markup\n",
      "C:\\Users\\James\\Anaconda3\\envs\\python2\\lib\\site-packages\\bs4\\__init__.py:219: UserWarning: \"....\" looks like a filename, not markup. You should probably open this file and pass the filehandle into Beautiful Soup.\n",
      "  ' Beautiful Soup.' % markup)\n",
      "C:\\Users\\James\\Anaconda3\\envs\\python2\\lib\\site-packages\\bs4\\__init__.py:219: UserWarning: \"............  ..  ......  ........  .\" looks like a filename, not markup. You should probably open this file and pass the filehandle into Beautiful Soup.\n",
      "  ' Beautiful Soup.' % markup)\n",
      "C:\\Users\\James\\Anaconda3\\envs\\python2\\lib\\site-packages\\bs4\\__init__.py:282: UserWarning: \"http://www.doyourownpestcontrol.com/SPEC/pick-gophertrap.htm\" looks like a URL. Beautiful Soup is not an HTTP client. You should probably use an HTTP client like requests to get the document behind the URL, and feed that document to Beautiful Soup.\n",
      "  ' that document to Beautiful Soup.' % decoded_markup\n"
     ]
    }
   ],
   "source": [
    "review_sents = []\n",
    "print \"Cleaning and parsing the reviews...\\n\"\n",
    "for i in xrange( 0, len(data[\"Text\"])):\n",
    "    # sent_reviews += Word2VecUtility.review_to_sentences(data[\"text\"][i], tokenizer)\n",
    "    review_sents += Word2VecUtility.review_to_sentences(data.iloc[i][\"Text\"], tokenizer)"
   ]
  },
  {
   "cell_type": "code",
   "execution_count": 27,
   "metadata": {},
   "outputs": [
    {
     "name": "stdout",
     "output_type": "stream",
     "text": [
      "843499\n",
      "[[u'i', u'like', u'this', u'brand'], [u'i', u'didn', u't', u'realize', u'i', u'was', u'ordering', u'extra', u'bold'], [u'to', u'me', u'these', u't', u'cups', u'are', u'bitter'], [u'since', u'i', u'can', u't', u'control', u'the', u'strength', u'i', u'make', u'a', u'small', u'cup', u'and', u'toss'], [u'then', u'i', u'make', u'a', u'large', u'cup', u'to', u'drink'], [u'it', u'is', u'still', u'strong', u'which', u'i', u'like', u'but', u'still', u'has', u'a', u'bit', u'of', u'bitter', u'aftertaste'], [u'i', u'still', u'like', u'this', u'brand'], [u'being', u'my', u'wife', u'is', u'a', u'licensed', u'cosmetologist', u'and', u'is', u'very', u'familiar', u'with', u'hair', u'products', u'in', u'general', u'and', u'being', u'she', u's', u'the', u'one', u'who', u'grooms', u'our', u'coton', u'de', u'tulear', u'she', u'was', u'quite', u'impressed', u'with', u'lambert', u'kay', u'fresh', u'n', u'clean', u'dog', u'creme', u'rinse', u'for', u'the', u'no', u'tangle', u'aspect', u'but', u'also', u'because', u'it', u'softens', u'the', u'hair', u'of', u'a', u'coton', u'leaving', u'it', u'feeling', u'as', u'soft', u'a', u'cotton'], [u'after', u'all', u'she', u'is', u'a', u'coton'], [u'if', u'you', u'are', u'looking', u'for', u'an', u'upgrade', u'from', u'the', u'standard', u'tazo', u'or', u'lipton', u'bagged', u'green', u'tea', u'this', u'is', u'the', u'way', u'to', u'go']]\n"
     ]
    }
   ],
   "source": [
    "# review_sents = pickle.load(open('review_sents_1859888.pkl', 'rb'))\n",
    "print len(review_sents)\n",
    "print review_sents[:10]"
   ]
  },
  {
   "cell_type": "code",
   "execution_count": 28,
   "metadata": {
    "collapsed": true
   },
   "outputs": [],
   "source": [
    "#count the number of words:\n",
    "# review_words = []\n",
    "# print \"Cleaning and parsing the reviews...\\n\"\n",
    "# for i in xrange( 0, len(data[\"Text\"])):\n",
    "#     # sent_reviews += Word2VecUtility.review_to_sentences(data[\"text\"][i], tokenizer)\n",
    "#     review_words += Word2VecUtility.review_to_wordlist(data.iloc[i][\"Text\"])"
   ]
  },
  {
   "cell_type": "code",
   "execution_count": 29,
   "metadata": {
    "collapsed": true
   },
   "outputs": [],
   "source": [
    "# # review_sents = pickle.load(open('review_sents_1859888.pkl', 'rb'))\n",
    "# print len(review_words)\n",
    "# print review_words[:5]"
   ]
  },
  {
   "cell_type": "code",
   "execution_count": 30,
   "metadata": {},
   "outputs": [
    {
     "name": "stdout",
     "output_type": "stream",
     "text": [
      "   Score                                               Text\n",
      "0      1  I like this brand. I didn't realize I was orde...\n",
      "1      1  Being my wife is a licensed cosmetologist and ...\n",
      "2      1  If you are looking for an upgrade from the sta...\n",
      "3      1  I am so allergic to too many artificial sweete...\n",
      "4      1  I have not been able to find this locally and ...\n",
      "5      1  This coffee is delicious, low-calorie and easy...\n",
      "6      1  I did not have the quality problems that other...\n",
      "7      1  My four kitty cats are in love with this food....\n",
      "8      1  These bars are great! Great tasting and with q...\n",
      "9      1  Simply THE BEST.  NOT hard - GREAT FLAVOR ( th...\n"
     ]
    }
   ],
   "source": [
    "print(data[0:10])"
   ]
  }
 ],
 "metadata": {
  "kernelspec": {
   "display_name": "Python 2",
   "language": "python",
   "name": "python2"
  },
  "language_info": {
   "codemirror_mode": {
    "name": "ipython",
    "version": 2
   },
   "file_extension": ".py",
   "mimetype": "text/x-python",
   "name": "python",
   "nbconvert_exporter": "python",
   "pygments_lexer": "ipython2",
   "version": "2.7.13"
  }
 },
 "nbformat": 4,
 "nbformat_minor": 2
}
