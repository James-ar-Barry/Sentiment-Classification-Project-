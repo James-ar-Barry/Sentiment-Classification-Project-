{
 "cells": [
  {
   "cell_type": "markdown",
   "metadata": {},
   "source": [
    "# Yelp Processing"
   ]
  },
  {
   "cell_type": "code",
   "execution_count": 1,
   "metadata": {},
   "outputs": [
    {
     "name": "stdout",
     "output_type": "stream",
     "text": [
      "Populating the interactive namespace from numpy and matplotlib\n"
     ]
    }
   ],
   "source": [
    "import pandas as pd\n",
    "import numpy as np\n",
    "import seaborn as sns\n",
    "import matplotlib.pyplot as plt\n",
    "import nltk\n",
    "from nltk.tokenize import sent_tokenize, word_tokenize\n",
    "from pylab import figure, axes, pie, title, show\n",
    "%pylab inline"
   ]
  },
  {
   "cell_type": "code",
   "execution_count": 2,
   "metadata": {},
   "outputs": [
    {
     "name": "stdout",
     "output_type": "stream",
     "text": [
      "<class 'pandas.core.frame.DataFrame'>\n",
      "RangeIndex: 4153150 entries, 0 to 4153149\n",
      "Data columns (total 2 columns):\n",
      "stars    int64\n",
      "text     object\n",
      "dtypes: int64(1), object(1)\n",
      "memory usage: 63.4+ MB\n",
      "None\n",
      "   stars                                               text\n",
      "0      5  If you enjoy service by someone who is as comp...\n",
      "1      5  After being on the phone with Verizon Wireless...\n",
      "2      5  Great service! Corey is very service oriented....\n",
      "3      5  Highly recommended. Went in yesterday looking ...\n",
      "4      4  I walked in here looking for a specific piece ...\n"
     ]
    }
   ],
   "source": [
    "#data = pd.read_csv('AFFReviews.csv', delimiter=\",\", header=0)\n",
    "data = pd.read_csv('Yelp_reviews.csv', sep=',', index_col=False)\n",
    "print data.info()\n",
    "print data.head()\n",
    "#data.to_csv('Reviews_clean.csv', index=False, encoding='utf-8')"
   ]
  },
  {
   "cell_type": "code",
   "execution_count": 3,
   "metadata": {},
   "outputs": [
    {
     "name": "stdout",
     "output_type": "stream",
     "text": [
      "5\n",
      "If you enjoy service by someone who is as competent as he is personable, I would recommend Corey Kaplan highly. The time he has spent here has been very productive and working with him educational and enjoyable. I hope not to need him again (though this is highly unlikely) but knowing he is there if I do is very nice. By the way, I'm not from El Centro, CA. but Scottsdale, AZ.\n"
     ]
    }
   ],
   "source": [
    "print data.stars[0]\n",
    "print data.text[0]"
   ]
  },
  {
   "cell_type": "code",
   "execution_count": 4,
   "metadata": {},
   "outputs": [
    {
     "data": {
      "image/png": "[encoded data removed]",
      "text/plain": [
       "<matplotlib.figure.Figure at 0xbc4c7c88>"
      ]
     },
     "metadata": {},
     "output_type": "display_data"
    }
   ],
   "source": [
    "#Graph - Score\n",
    "ax = sns.countplot(data['stars'], palette='Blues_d')\n",
    "ax.set_xlabel('Rating', fontsize = 12)\n",
    "ax.set_ylabel('Number of Ratings', fontsize = 12)\n",
    "ax.set_title('Number of Reviews Yelp', fontsize=16)\n",
    "ax.tick_params(labelsize = 8)\n",
    "pylab.rcParams['figure.figsize'] = (4, 8)\n",
    "plt.show()\n",
    "fig = ax.get_figure()\n",
    "#fig.savefig(\"AFF.png\")"
   ]
  },
  {
   "cell_type": "code",
   "execution_count": 7,
   "metadata": {},
   "outputs": [
    {
     "data": {
      "text/plain": [
       "5    1704200\n",
       "4    1032654\n",
       "1     540377\n",
       "3     517369\n",
       "2     358550\n",
       "Name: stars, dtype: int64"
      ]
     },
     "execution_count": 7,
     "metadata": {},
     "output_type": "execute_result"
    }
   ],
   "source": [
    "data['stars'].value_counts()"
   ]
  },
  {
   "cell_type": "code",
   "execution_count": 8,
   "metadata": {},
   "outputs": [
    {
     "name": "stdout",
     "output_type": "stream",
     "text": [
      "   stars                                               text\n",
      "0      5  If you enjoy service by someone who is as comp...\n",
      "1      5  After being on the phone with Verizon Wireless...\n",
      "2      5  Great service! Corey is very service oriented....\n",
      "3      5  Highly recommended. Went in yesterday looking ...\n",
      "4      4  I walked in here looking for a specific piece ...\n"
     ]
    },
    {
     "data": {
      "text/plain": [
       "5    1704200\n",
       "4    1032654\n",
       "1     540377\n",
       "2     358550\n",
       "Name: stars, dtype: int64"
      ]
     },
     "execution_count": 8,
     "metadata": {},
     "output_type": "execute_result"
    }
   ],
   "source": [
    "#remove rows which contain ratings of 3 (Neutral and not included in our analysis.)\n",
    "data = data[data.stars != 3]\n",
    "print(data.head())\n",
    "data['stars'].value_counts() "
   ]
  },
  {
   "cell_type": "code",
   "execution_count": 10,
   "metadata": {},
   "outputs": [],
   "source": [
    "#create 2 datasets and merge them. \n",
    "negative_sample = data.loc[data.stars <=2]\n",
    "positive_sample = data.loc[data.stars >=4]"
   ]
  },
  {
   "cell_type": "code",
   "execution_count": 11,
   "metadata": {},
   "outputs": [
    {
     "name": "stdout",
     "output_type": "stream",
     "text": [
      "898927\n",
      "2736854\n"
     ]
    }
   ],
   "source": [
    "print len(negative_sample)\n",
    "print len(positive_sample)"
   ]
  },
  {
   "cell_type": "code",
   "execution_count": 14,
   "metadata": {},
   "outputs": [
    {
     "name": "stdout",
     "output_type": "stream",
     "text": [
      "Int64Index([ 385460, 3353423, 2987893, 2708925, 3664065, 2173157, 1495693,\n",
      "            1799867,  589366,  584027,\n",
      "            ...\n",
      "             678504, 2103389, 3144383, 2688079, 1610583, 2501566, 2777932,\n",
      "            1757332, 4082975, 2044297],\n",
      "           dtype='int64', length=100000)\n"
     ]
    }
   ],
   "source": [
    "#Create a sample dataset so we can evenly match the amount of pos/neg examples/  \n",
    "size = 100000\n",
    "subdata = positive_sample.sample(n = size, random_state=520)\n",
    "\n",
    "#subdata = subdata[pd.notnull(subdata['text'])] - to get rid of null values\n",
    "\n",
    "print subdata.index\n",
    "subdata.to_csv('Yelp_Pos_100k.csv', index=False, sep=',', encoding='utf-8')"
   ]
  },
  {
   "cell_type": "code",
   "execution_count": 15,
   "metadata": {},
   "outputs": [
    {
     "name": "stdout",
     "output_type": "stream",
     "text": [
      "   stars                                               text\n",
      "0      5  I just got my reading glasses back and have no...\n",
      "1      5  Absolutely the \"Best of Phoenix\". Caring compa...\n",
      "2      5  I've been coming here for about 4 years now. I...\n",
      "3      5  The food was hot and tasty. The garlic knots a...\n",
      "4      4  This place is delicious!! I love the salmon an...\n"
     ]
    }
   ],
   "source": [
    "#Load in the sample data\n",
    "pos_data = pd.read_csv('Yelp_Pos_100k.csv', index_col=False)\n",
    "print pos_data.iloc[:5]"
   ]
  },
  {
   "cell_type": "markdown",
   "metadata": {},
   "source": [
    "Create Negative Examples Dataset"
   ]
  },
  {
   "cell_type": "code",
   "execution_count": 16,
   "metadata": {},
   "outputs": [
    {
     "name": "stdout",
     "output_type": "stream",
     "text": [
      "Int64Index([1733431, 2853829, 1169950, 1707283, 3189730, 1478436, 2379891,\n",
      "             517319, 2641068,  863780,\n",
      "            ...\n",
      "            2454555,  799614,  329041,  152175,  698728, 4138165, 1150573,\n",
      "            1132004, 2146249, 3997351],\n",
      "           dtype='int64', length=100000)\n"
     ]
    }
   ],
   "source": [
    "#Create a sample dataset so we can evenly match the amount of pos/neg examples/  \n",
    "size = 100000 \n",
    "subdata = negative_sample.sample(n = size, random_state=520)\n",
    "\n",
    "#subdata = subdata[pd.notnull(subdata['text'])] - to get rid of null values\n",
    "\n",
    "print subdata.index\n",
    "subdata.to_csv('Yelp_Neg_100k.csv', index=False, sep=',', encoding='utf-8')"
   ]
  },
  {
   "cell_type": "code",
   "execution_count": 17,
   "metadata": {},
   "outputs": [
    {
     "name": "stdout",
     "output_type": "stream",
     "text": [
      "   stars                                               text\n",
      "0      1  It was good once I ate it but after I got a fo...\n",
      "1      1  My wife and I went here last night before the ...\n",
      "2      1  I had a poor experience with my last rental wi...\n",
      "3      1  I live in one of the apartment buildings in th...\n",
      "4      2  You don't get much for your player card status...\n"
     ]
    }
   ],
   "source": [
    "#Load in the sample data\n",
    "neg_data = pd.read_csv('Yelp_Neg_100k.csv', index_col=False)\n",
    "print neg_data.iloc[:5]"
   ]
  },
  {
   "cell_type": "markdown",
   "metadata": {},
   "source": [
    "Merge the positive and negative datasets so that we have one highly balanced dataset"
   ]
  },
  {
   "cell_type": "code",
   "execution_count": 18,
   "metadata": {
    "collapsed": true
   },
   "outputs": [],
   "source": [
    "# stack the DataFrames on top of each other\n",
    "merged = pd.concat([pos_data, neg_data], axis=0)"
   ]
  },
  {
   "cell_type": "code",
   "execution_count": 19,
   "metadata": {},
   "outputs": [
    {
     "name": "stdout",
     "output_type": "stream",
     "text": [
      "   stars                                               text\n",
      "0      5  I just got my reading glasses back and have no...\n",
      "1      5  Absolutely the \"Best of Phoenix\". Caring compa...\n",
      "2      5  I've been coming here for about 4 years now. I...\n",
      "3      5  The food was hot and tasty. The garlic knots a...\n",
      "4      4  This place is delicious!! I love the salmon an...\n"
     ]
    }
   ],
   "source": [
    "print merged.head()"
   ]
  },
  {
   "cell_type": "code",
   "execution_count": 21,
   "metadata": {},
   "outputs": [
    {
     "data": {
      "image/png": "[encoded data removed]",
      "text/plain": [
       "<matplotlib.figure.Figure at 0xd8d4db00>"
      ]
     },
     "metadata": {},
     "output_type": "display_data"
    }
   ],
   "source": [
    "#Graph - Score\n",
    "ax = sns.countplot(merged['stars'], palette='Blues_d')\n",
    "ax.set_xlabel('Rating', fontsize = 12)\n",
    "ax.set_ylabel('Number of Ratings', fontsize = 12)\n",
    "ax.set_title('Number of Reviews Amazon', fontsize=16)\n",
    "ax.tick_params(labelsize = 8)\n",
    "pylab.rcParams['figure.figsize'] = (4, 8)\n",
    "plt.show()\n",
    "fig = ax.get_figure()\n",
    "#fig.savefig(\"AFF.png\")"
   ]
  },
  {
   "cell_type": "code",
   "execution_count": 25,
   "metadata": {},
   "outputs": [
    {
     "data": {
      "text/plain": [
       "1    100000\n",
       "0    100000\n",
       "Name: stars, dtype: int64"
      ]
     },
     "execution_count": 25,
     "metadata": {},
     "output_type": "execute_result"
    }
   ],
   "source": [
    "merged.loc[merged.stars <=2, 'stars'] = 0\n",
    "merged.loc[merged.stars >=4, 'stars'] = 1\n",
    "        \n",
    "merged['stars'].value_counts()"
   ]
  },
  {
   "cell_type": "code",
   "execution_count": 26,
   "metadata": {
    "collapsed": true
   },
   "outputs": [],
   "source": [
    "#Now that we have a balanced dataset, we can save it to a CSV file so that it can be used in our\n",
    "#analysis\n",
    "\n",
    "merged.to_csv('Yelp_Evenly_Sampled.csv', index=False, sep=',', encoding='utf-8')"
   ]
  },
  {
   "cell_type": "code",
   "execution_count": 28,
   "metadata": {},
   "outputs": [
    {
     "name": "stdout",
     "output_type": "stream",
     "text": [
      "   stars                                               text\n",
      "0      1  I just got my reading glasses back and have no...\n",
      "1      1  Absolutely the \"Best of Phoenix\". Caring compa...\n",
      "2      1  I've been coming here for about 4 years now. I...\n",
      "3      1  The food was hot and tasty. The garlic knots a...\n",
      "4      1  This place is delicious!! I love the salmon an...\n"
     ]
    },
    {
     "data": {
      "text/plain": [
       "1    100000\n",
       "0    100000\n",
       "Name: stars, dtype: int64"
      ]
     },
     "execution_count": 28,
     "metadata": {},
     "output_type": "execute_result"
    }
   ],
   "source": [
    "#Load in the new data\n",
    "data = pd.read_csv('Yelp_Evenly_Sampled.csv', index_col=False)\n",
    "print data.iloc[:5]\n",
    "data['stars'].value_counts()"
   ]
  },
  {
   "cell_type": "code",
   "execution_count": null,
   "metadata": {
    "collapsed": true
   },
   "outputs": [],
   "source": []
  }
 ],
 "metadata": {
  "kernelspec": {
   "display_name": "Python 2",
   "language": "python",
   "name": "python2"
  },
  "language_info": {
   "codemirror_mode": {
    "name": "ipython",
    "version": 2
   },
   "file_extension": ".py",
   "mimetype": "text/x-python",
   "name": "python",
   "nbconvert_exporter": "python",
   "pygments_lexer": "ipython2",
   "version": "2.7.13"
  }
 },
 "nbformat": 4,
 "nbformat_minor": 2
}
